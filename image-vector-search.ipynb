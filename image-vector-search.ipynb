{
 "cells": [
  {
   "cell_type": "code",
   "execution_count": 2,
   "id": "30d28a35",
   "metadata": {},
   "outputs": [],
   "source": [
    "from langchain_experimental.open_clip import OpenCLIPEmbeddings\n",
    "import glob"
   ]
  },
  {
   "cell_type": "code",
   "execution_count": null,
   "id": "75f7d1cb",
   "metadata": {},
   "outputs": [
    {
     "name": "stdout",
     "output_type": "stream",
     "text": [
      "image path:  ['img/dog.jpeg']\n",
      "open clip embedding length:  1\n",
      "Error:  'list' object has no attribute 'shape'\n"
     ]
    }
   ],
   "source": [
    "try: \n",
    "    image_path = glob.glob(\"img/*.jpeg\", recursive=True)\n",
    "    print(\"image path: \", image_path)\n",
    "\n",
    "    open_clip_embedding_model = OpenCLIPEmbeddings()\n",
    "    open_clip_embedding = open_clip_embedding_model.embed_image(image_path)\n",
    "\n",
    "    print(\"open clip embedding length: \", len(open_clip_embedding))\n",
    "    print(\"open clip embedding: \", open_clip_embedding[0])\n",
    "except Exception as e:\n",
    "    print(\"Error: \", e)"
   ]
  }
 ],
 "metadata": {
  "kernelspec": {
   "display_name": ".venv",
   "language": "python",
   "name": "python3"
  },
  "language_info": {
   "codemirror_mode": {
    "name": "ipython",
    "version": 3
   },
   "file_extension": ".py",
   "mimetype": "text/x-python",
   "name": "python",
   "nbconvert_exporter": "python",
   "pygments_lexer": "ipython3",
   "version": "3.11.0"
  }
 },
 "nbformat": 4,
 "nbformat_minor": 5
}
